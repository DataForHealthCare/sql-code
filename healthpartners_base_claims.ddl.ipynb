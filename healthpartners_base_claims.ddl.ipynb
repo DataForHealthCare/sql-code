{
 "cells": [
  {
   "cell_type": "code",
   "execution_count": 0,
   "metadata": {
    "application/vnd.databricks.v1+cell": {
     "cellMetadata": {
      "byteLimit": 2048000,
      "rowLimit": 10000
     },
     "inputWidgets": {},
     "nuid": "92bd0411-f398-4f0e-8bfb-c5cddeb9355a",
     "showTitle": false,
     "title": ""
    }
   },
   "outputs": [],
   "source": [
    "# Parameter assignment from job task.\n",
    "try:\n",
    "    environment = dbutils.widgets.get(\"environment\")\n",
    "except:\n",
    "    environment = 'development'\n",
    "\n",
    "# Determination of output location based on job task parameter.\n",
    "if environment == 'production':\n",
    "    catalog = 'standardized'\n",
    "else:\n",
    "    catalog = 'standardized_dev'"
   ]
  },
  {
   "cell_type": "code",
   "execution_count": 0,
   "metadata": {
    "application/vnd.databricks.v1+cell": {
     "cellMetadata": {
      "byteLimit": 2048000,
      "rowLimit": 10000
     },
     "inputWidgets": {},
     "nuid": "20aefb88-f765-480f-8aa5-70bbaf3117d2",
     "showTitle": false,
     "title": ""
    }
   },
   "outputs": [
    {
     "output_type": "stream",
     "name": "stdout",
     "output_type": "stream",
     "text": [
      "Out[4]: DataFrame[]"
     ]
    }
   ],
   "source": [
    "# Create the table\n",
    "spark.sql('''CREATE TABLE IF NOT EXISTS standardized_dev.health_plan.base_claims(\n",
    "    acct_yrmo_txt STRING COMMENT \"A text field, indicating the year/month on which the claim was paid. That is, when the liability was recorded in the General Ledger.\",\n",
    "    benefit_place_of_service_cd STRING COMMENT \"Indicates the Benefit Place of Service at which the service was performed.\",\n",
    "    benefit_tier_cd INT COMMENT \"Indicates the Benefit Tier under which the claim was paid. \",\n",
    "    bill_tp_cd STRING COMMENT \"The bill type code submitted on the claim.\",\n",
    "    claim_form_type_cd STRING COMMENT \"Indicates the claims form type (professional or facility).\",\n",
    "    claim_line_no INT COMMENT \"Service Line Number. \" NOT NULL,\n",
    "    claim_no INT COMMENT \"Claim number.\" NOT NULL,\n",
    "    claim_place_of_service_cd STRING COMMENT \"The place of service code submitted on the claim.\",\n",
    "    encounter_no BIGINT COMMENT \"Claim level encounter number. \",\n",
    "    encounter_service_no INT COMMENT \"Service line Encounter Serial Number. \",\n",
    "    facility_id INT COMMENT \"Identifies the billing entity (facility) of the hospital, clinic or office at which the service was performed.\",\n",
    "    first_service_dt DATE COMMENT \"First service date of claim service (from the service line, not the claim). \",\n",
    "    frp_no INT COMMENT \"Financially Responsible Party associated with the encounter. \",\n",
    "    inpatient_yn_txt STRING COMMENT \"'Y' if an inpatient claim. \",\n",
    "    last_service_dt DATE COMMENT \"Line level Last Service Date.\",\n",
    "    paid_date_dt DATE COMMENT \"Daily AP/GL Date\",\n",
    "    posting_dt DATE COMMENT \"Posting Date.\",\n",
    "    record_type_cd STRING COMMENT \"Record/source type\",\n",
    "    remittance_advice_transaction_no INT COMMENT \"A unique identifier associated with a specific remittance advice, often abbreviated as RA. Remittance advice is a document or electronic message sent by a payer (such as an insurance company or government healthcare program) to a healthcare provider or billing entity to explain the details of payments and adjustments made on healthcare claims.\",\n",
    "    service_component_no INT COMMENT \"Service Component Number. \",\n",
    "    PRIMARY KEY(claim_no, claim_line_no)\n",
    ")\n",
    "PARTITIONED BY (encounter_no)\n",
    "TBLPROPERTIES('pii'=true, 'phi'=false, 'staging'=false, delta.enableChangeDataFeed=true)\n",
    "COMMENT \"This table contains only the bare essential information related to line-level healthcare claims. Its purpose is to support outbound medical claims integrations.\"'''.format(catalog=catalog))"
   ]
  }
 ],
 "metadata": {
  "application/vnd.databricks.v1+notebook": {
   "dashboards": [],
   "language": "python",
   "notebookMetadata": {
    "mostRecentlyExecutedCommandWithImplicitDF": {
     "commandId": 525019353627338,
     "dataframes": [
      "_sqldf"
     ]
    },
    "pythonIndentUnit": 4
   },
   "notebookName": "healthpartners_base_claims.ddl",
   "widgets": {}
  }
 },
 "nbformat": 4,
 "nbformat_minor": 0
}
